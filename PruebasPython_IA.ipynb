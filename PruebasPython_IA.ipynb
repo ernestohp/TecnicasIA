{
  "nbformat": 4,
  "nbformat_minor": 0,
  "metadata": {
    "colab": {
      "name": "Copy of PruebasPython-IA.ipynb",
      "provenance": [],
      "collapsed_sections": [],
      "authorship_tag": "ABX9TyO1sAJ+rY79vakRukM7QqiU",
      "include_colab_link": true
    },
    "kernelspec": {
      "name": "python3",
      "display_name": "Python 3"
    },
    "language_info": {
      "name": "python"
    }
  },
  "cells": [
    {
      "cell_type": "markdown",
      "metadata": {
        "id": "view-in-github",
        "colab_type": "text"
      },
      "source": [
        "<a href=\"https://colab.research.google.com/github/ernestohp/TecnicasIA/blob/main/PruebasPython_IA.ipynb\" target=\"_parent\"><img src=\"https://colab.research.google.com/assets/colab-badge.svg\" alt=\"Open In Colab\"/></a>"
      ]
    },
    {
      "cell_type": "code",
      "metadata": {
        "id": "xa6nBKzrTHtU"
      },
      "source": [
        "from sklearn import datasets\n",
        "from sklearn import metrics\n",
        "\n",
        "#cargamos el dataset\n",
        "dataset = datasets.load_iris()\n",
        "dataset\n",
        "#for d in datasets:\n",
        "#  print(d)"
      ],
      "execution_count": null,
      "outputs": []
    },
    {
      "cell_type": "code",
      "metadata": {
        "colab": {
          "base_uri": "https://localhost:8080/",
          "height": 265
        },
        "id": "Tiez-BfZUtVA",
        "outputId": "b3404def-6806-4b06-899b-3b87f826719d"
      },
      "source": [
        "import numpy as np\n",
        "import matplotlib.pyplot as plt\n",
        "\n",
        "x = np.random.normal(5.0, 2.0, 10)\n",
        "y = np.random.normal(10.0, 2.0, 10)\n",
        "z = np.random.uniform(0.0, 10.0, 50)\n",
        "#print(x)\n",
        "#print(y)\n",
        "#print(z)\n",
        "\n",
        "plt.hist(x)\n",
        "plt.show()"
      ],
      "execution_count": null,
      "outputs": [
        {
          "output_type": "display_data",
          "data": {
            "image/png": "[encoded data removed]",
            "text/plain": [
              "<Figure size 432x288 with 1 Axes>"
            ]
          },
          "metadata": {
            "tags": [],
            "needs_background": "light"
          }
        }
      ]
    },
    {
      "cell_type": "code",
      "metadata": {
        "id": "Sy0tLQtHTx7R"
      },
      "source": [
        ""
      ],
      "execution_count": null,
      "outputs": []
    }
  ]
}