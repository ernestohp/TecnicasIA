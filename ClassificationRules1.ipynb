{
  "nbformat": 4,
  "nbformat_minor": 0,
  "metadata": {
    "colab": {
      "name": "ClassificationRules1.ipynb",
      "provenance": [],
      "collapsed_sections": [],
      "authorship_tag": "ABX9TyM/LDbu4VmxtZlh2Cl9FSLg",
      "include_colab_link": true
    },
    "kernelspec": {
      "name": "python3",
      "display_name": "Python 3"
    },
    "language_info": {
      "name": "python"
    }
  },
  "cells": [
    {
      "cell_type": "markdown",
      "metadata": {
        "id": "view-in-github",
        "colab_type": "text"
      },
      "source": [
        "<a href=\"https://colab.research.google.com/github/ernestohp/TecnicasIA/blob/main/ClassificationRules1.ipynb\" target=\"_parent\"><img src=\"https://colab.research.google.com/assets/colab-badge.svg\" alt=\"Open In Colab\"/></a>"
      ]
    },
    {
      "cell_type": "code",
      "metadata": {
        "id": "41X9mtqzQbCA"
      },
      "source": [
        "import pandas as pd"
      ],
      "execution_count": 1,
      "outputs": []
    },
    {
      "cell_type": "code",
      "metadata": {
        "id": "WKCkf1bCQtuf"
      },
      "source": [
        "url = \"https://raw.githubusercontent.com/ernestohp/TecnicasIA/main/GroceryStoreDataSet.csv\"\n",
        "df = pd.read_csv(url, names=['products'], header=None)\n",
        "#df = pd.read_csv(url, header=None)"
      ],
      "execution_count": 8,
      "outputs": []
    },
    {
      "cell_type": "code",
      "metadata": {
        "colab": {
          "base_uri": "https://localhost:8080/"
        },
        "id": "jBkNR_DZRD0p",
        "outputId": "4e1ffcfb-5745-4b40-ed61-9049811bc45e"
      },
      "source": [
        "df.info()"
      ],
      "execution_count": 9,
      "outputs": [
        {
          "output_type": "stream",
          "text": [
            "<class 'pandas.core.frame.DataFrame'>\n",
            "RangeIndex: 20 entries, 0 to 19\n",
            "Data columns (total 1 columns):\n",
            " #   Column    Non-Null Count  Dtype \n",
            "---  ------    --------------  ----- \n",
            " 0   products  20 non-null     object\n",
            "dtypes: object(1)\n",
            "memory usage: 288.0+ bytes\n"
          ],
          "name": "stdout"
        }
      ]
    },
    {
      "cell_type": "code",
      "metadata": {
        "colab": {
          "base_uri": "https://localhost:8080/",
          "height": 650
        },
        "id": "gralsWN-RFGa",
        "outputId": "a2dab157-69dd-4c0e-b499-2d8dc0afb5d7"
      },
      "source": [
        "df"
      ],
      "execution_count": 10,
      "outputs": [
        {
          "output_type": "execute_result",
          "data": {
            "text/html": [
              "<div>\n",
              "<style scoped>\n",
              "    .dataframe tbody tr th:only-of-type {\n",
              "        vertical-align: middle;\n",
              "    }\n",
              "\n",
              "    .dataframe tbody tr th {\n",
              "        vertical-align: top;\n",
              "    }\n",
              "\n",
              "    .dataframe thead th {\n",
              "        text-align: right;\n",
              "    }\n",
              "</style>\n",
              "<table border=\"1\" class=\"dataframe\">\n",
              "  <thead>\n",
              "    <tr style=\"text-align: right;\">\n",
              "      <th></th>\n",
              "      <th>products</th>\n",
              "    </tr>\n",
              "  </thead>\n",
              "  <tbody>\n",
              "    <tr>\n",
              "      <th>0</th>\n",
              "      <td>MILK,BREAD,BISCUIT</td>\n",
              "    </tr>\n",
              "    <tr>\n",
              "      <th>1</th>\n",
              "      <td>BREAD,MILK,BISCUIT,CORNFLAKES</td>\n",
              "    </tr>\n",
              "    <tr>\n",
              "      <th>2</th>\n",
              "      <td>BREAD,TEA,BOURNVITA</td>\n",
              "    </tr>\n",
              "    <tr>\n",
              "      <th>3</th>\n",
              "      <td>JAM,MAGGI,BREAD,MILK</td>\n",
              "    </tr>\n",
              "    <tr>\n",
              "      <th>4</th>\n",
              "      <td>MAGGI,TEA,BISCUIT</td>\n",
              "    </tr>\n",
              "    <tr>\n",
              "      <th>5</th>\n",
              "      <td>BREAD,TEA,BOURNVITA</td>\n",
              "    </tr>\n",
              "    <tr>\n",
              "      <th>6</th>\n",
              "      <td>MAGGI,TEA,CORNFLAKES</td>\n",
              "    </tr>\n",
              "    <tr>\n",
              "      <th>7</th>\n",
              "      <td>MAGGI,BREAD,TEA,BISCUIT</td>\n",
              "    </tr>\n",
              "    <tr>\n",
              "      <th>8</th>\n",
              "      <td>JAM,MAGGI,BREAD,TEA</td>\n",
              "    </tr>\n",
              "    <tr>\n",
              "      <th>9</th>\n",
              "      <td>BREAD,MILK</td>\n",
              "    </tr>\n",
              "    <tr>\n",
              "      <th>10</th>\n",
              "      <td>COFFEE,COCK,BISCUIT,CORNFLAKES</td>\n",
              "    </tr>\n",
              "    <tr>\n",
              "      <th>11</th>\n",
              "      <td>COFFEE,COCK,BISCUIT,CORNFLAKES</td>\n",
              "    </tr>\n",
              "    <tr>\n",
              "      <th>12</th>\n",
              "      <td>COFFEE,SUGER,BOURNVITA</td>\n",
              "    </tr>\n",
              "    <tr>\n",
              "      <th>13</th>\n",
              "      <td>BREAD,COFFEE,COCK</td>\n",
              "    </tr>\n",
              "    <tr>\n",
              "      <th>14</th>\n",
              "      <td>BREAD,SUGER,BISCUIT</td>\n",
              "    </tr>\n",
              "    <tr>\n",
              "      <th>15</th>\n",
              "      <td>COFFEE,SUGER,CORNFLAKES</td>\n",
              "    </tr>\n",
              "    <tr>\n",
              "      <th>16</th>\n",
              "      <td>BREAD,SUGER,BOURNVITA</td>\n",
              "    </tr>\n",
              "    <tr>\n",
              "      <th>17</th>\n",
              "      <td>BREAD,COFFEE,SUGER</td>\n",
              "    </tr>\n",
              "    <tr>\n",
              "      <th>18</th>\n",
              "      <td>BREAD,COFFEE,SUGER</td>\n",
              "    </tr>\n",
              "    <tr>\n",
              "      <th>19</th>\n",
              "      <td>TEA,MILK,COFFEE,CORNFLAKES</td>\n",
              "    </tr>\n",
              "  </tbody>\n",
              "</table>\n",
              "</div>"
            ],
            "text/plain": [
              "                          products\n",
              "0               MILK,BREAD,BISCUIT\n",
              "1    BREAD,MILK,BISCUIT,CORNFLAKES\n",
              "2              BREAD,TEA,BOURNVITA\n",
              "3             JAM,MAGGI,BREAD,MILK\n",
              "4                MAGGI,TEA,BISCUIT\n",
              "5              BREAD,TEA,BOURNVITA\n",
              "6             MAGGI,TEA,CORNFLAKES\n",
              "7          MAGGI,BREAD,TEA,BISCUIT\n",
              "8              JAM,MAGGI,BREAD,TEA\n",
              "9                       BREAD,MILK\n",
              "10  COFFEE,COCK,BISCUIT,CORNFLAKES\n",
              "11  COFFEE,COCK,BISCUIT,CORNFLAKES\n",
              "12          COFFEE,SUGER,BOURNVITA\n",
              "13               BREAD,COFFEE,COCK\n",
              "14             BREAD,SUGER,BISCUIT\n",
              "15         COFFEE,SUGER,CORNFLAKES\n",
              "16           BREAD,SUGER,BOURNVITA\n",
              "17              BREAD,COFFEE,SUGER\n",
              "18              BREAD,COFFEE,SUGER\n",
              "19      TEA,MILK,COFFEE,CORNFLAKES"
            ]
          },
          "metadata": {
            "tags": []
          },
          "execution_count": 10
        }
      ]
    },
    {
      "cell_type": "code",
      "metadata": {
        "colab": {
          "base_uri": "https://localhost:8080/"
        },
        "id": "KJcoWnKtRG-v",
        "outputId": "23d49b33-97c1-4d2a-9fb8-e228a5b456f2"
      },
      "source": [
        "df.columns"
      ],
      "execution_count": 11,
      "outputs": [
        {
          "output_type": "execute_result",
          "data": {
            "text/plain": [
              "Index(['products'], dtype='object')"
            ]
          },
          "metadata": {
            "tags": []
          },
          "execution_count": 11
        }
      ]
    },
    {
      "cell_type": "code",
      "metadata": {
        "colab": {
          "base_uri": "https://localhost:8080/"
        },
        "id": "i3WXQJ5WRU8T",
        "outputId": "4347a3aa-9ebe-4eea-b566-b12a5f65a040"
      },
      "source": [
        "df.values"
      ],
      "execution_count": 12,
      "outputs": [
        {
          "output_type": "execute_result",
          "data": {
            "text/plain": [
              "array([['MILK,BREAD,BISCUIT'],\n",
              "       ['BREAD,MILK,BISCUIT,CORNFLAKES'],\n",
              "       ['BREAD,TEA,BOURNVITA'],\n",
              "       ['JAM,MAGGI,BREAD,MILK'],\n",
              "       ['MAGGI,TEA,BISCUIT'],\n",
              "       ['BREAD,TEA,BOURNVITA'],\n",
              "       ['MAGGI,TEA,CORNFLAKES'],\n",
              "       ['MAGGI,BREAD,TEA,BISCUIT'],\n",
              "       ['JAM,MAGGI,BREAD,TEA'],\n",
              "       ['BREAD,MILK'],\n",
              "       ['COFFEE,COCK,BISCUIT,CORNFLAKES'],\n",
              "       ['COFFEE,COCK,BISCUIT,CORNFLAKES'],\n",
              "       ['COFFEE,SUGER,BOURNVITA'],\n",
              "       ['BREAD,COFFEE,COCK'],\n",
              "       ['BREAD,SUGER,BISCUIT'],\n",
              "       ['COFFEE,SUGER,CORNFLAKES'],\n",
              "       ['BREAD,SUGER,BOURNVITA'],\n",
              "       ['BREAD,COFFEE,SUGER'],\n",
              "       ['BREAD,COFFEE,SUGER'],\n",
              "       ['TEA,MILK,COFFEE,CORNFLAKES']], dtype=object)"
            ]
          },
          "metadata": {
            "tags": []
          },
          "execution_count": 12
        }
      ]
    },
    {
      "cell_type": "code",
      "metadata": {
        "id": "5ZJWMS0PRYPF"
      },
      "source": [
        "from mlxtend.preprocessing import TransactionEncoder"
      ],
      "execution_count": 13,
      "outputs": []
    },
    {
      "cell_type": "code",
      "metadata": {
        "id": "770rAO5xRjbE"
      },
      "source": [
        "data = list(df['products'].apply(lambda x: x.split(',')))"
      ],
      "execution_count": 14,
      "outputs": []
    },
    {
      "cell_type": "code",
      "metadata": {
        "colab": {
          "base_uri": "https://localhost:8080/"
        },
        "id": "C3YhNUiiR6P3",
        "outputId": "7b1b44e1-1986-466c-b8cd-615d3746fe67"
      },
      "source": [
        "data"
      ],
      "execution_count": 15,
      "outputs": [
        {
          "output_type": "execute_result",
          "data": {
            "text/plain": [
              "[['MILK', 'BREAD', 'BISCUIT'],\n",
              " ['BREAD', 'MILK', 'BISCUIT', 'CORNFLAKES'],\n",
              " ['BREAD', 'TEA', 'BOURNVITA'],\n",
              " ['JAM', 'MAGGI', 'BREAD', 'MILK'],\n",
              " ['MAGGI', 'TEA', 'BISCUIT'],\n",
              " ['BREAD', 'TEA', 'BOURNVITA'],\n",
              " ['MAGGI', 'TEA', 'CORNFLAKES'],\n",
              " ['MAGGI', 'BREAD', 'TEA', 'BISCUIT'],\n",
              " ['JAM', 'MAGGI', 'BREAD', 'TEA'],\n",
              " ['BREAD', 'MILK'],\n",
              " ['COFFEE', 'COCK', 'BISCUIT', 'CORNFLAKES'],\n",
              " ['COFFEE', 'COCK', 'BISCUIT', 'CORNFLAKES'],\n",
              " ['COFFEE', 'SUGER', 'BOURNVITA'],\n",
              " ['BREAD', 'COFFEE', 'COCK'],\n",
              " ['BREAD', 'SUGER', 'BISCUIT'],\n",
              " ['COFFEE', 'SUGER', 'CORNFLAKES'],\n",
              " ['BREAD', 'SUGER', 'BOURNVITA'],\n",
              " ['BREAD', 'COFFEE', 'SUGER'],\n",
              " ['BREAD', 'COFFEE', 'SUGER'],\n",
              " ['TEA', 'MILK', 'COFFEE', 'CORNFLAKES']]"
            ]
          },
          "metadata": {
            "tags": []
          },
          "execution_count": 15
        }
      ]
    },
    {
      "cell_type": "code",
      "metadata": {
        "colab": {
          "base_uri": "https://localhost:8080/",
          "height": 198
        },
        "id": "3NZZliySR_uz",
        "outputId": "e02f437f-2723-472e-f8e4-724310cdfef3"
      },
      "source": [
        "te = TransactionEncoder()\n",
        "te_data = te.fit(data).transform(data)\n",
        "df = pd.DataFrame(te_data, columns=te.columns_)\n",
        "df.head()"
      ],
      "execution_count": 18,
      "outputs": [
        {
          "output_type": "execute_result",
          "data": {
            "text/html": [
              "<div>\n",
              "<style scoped>\n",
              "    .dataframe tbody tr th:only-of-type {\n",
              "        vertical-align: middle;\n",
              "    }\n",
              "\n",
              "    .dataframe tbody tr th {\n",
              "        vertical-align: top;\n",
              "    }\n",
              "\n",
              "    .dataframe thead th {\n",
              "        text-align: right;\n",
              "    }\n",
              "</style>\n",
              "<table border=\"1\" class=\"dataframe\">\n",
              "  <thead>\n",
              "    <tr style=\"text-align: right;\">\n",
              "      <th></th>\n",
              "      <th>BISCUIT</th>\n",
              "      <th>BOURNVITA</th>\n",
              "      <th>BREAD</th>\n",
              "      <th>COCK</th>\n",
              "      <th>COFFEE</th>\n",
              "      <th>CORNFLAKES</th>\n",
              "      <th>JAM</th>\n",
              "      <th>MAGGI</th>\n",
              "      <th>MILK</th>\n",
              "      <th>SUGER</th>\n",
              "      <th>TEA</th>\n",
              "    </tr>\n",
              "  </thead>\n",
              "  <tbody>\n",
              "    <tr>\n",
              "      <th>0</th>\n",
              "      <td>True</td>\n",
              "      <td>False</td>\n",
              "      <td>True</td>\n",
              "      <td>False</td>\n",
              "      <td>False</td>\n",
              "      <td>False</td>\n",
              "      <td>False</td>\n",
              "      <td>False</td>\n",
              "      <td>True</td>\n",
              "      <td>False</td>\n",
              "      <td>False</td>\n",
              "    </tr>\n",
              "    <tr>\n",
              "      <th>1</th>\n",
              "      <td>True</td>\n",
              "      <td>False</td>\n",
              "      <td>True</td>\n",
              "      <td>False</td>\n",
              "      <td>False</td>\n",
              "      <td>True</td>\n",
              "      <td>False</td>\n",
              "      <td>False</td>\n",
              "      <td>True</td>\n",
              "      <td>False</td>\n",
              "      <td>False</td>\n",
              "    </tr>\n",
              "    <tr>\n",
              "      <th>2</th>\n",
              "      <td>False</td>\n",
              "      <td>True</td>\n",
              "      <td>True</td>\n",
              "      <td>False</td>\n",
              "      <td>False</td>\n",
              "      <td>False</td>\n",
              "      <td>False</td>\n",
              "      <td>False</td>\n",
              "      <td>False</td>\n",
              "      <td>False</td>\n",
              "      <td>True</td>\n",
              "    </tr>\n",
              "    <tr>\n",
              "      <th>3</th>\n",
              "      <td>False</td>\n",
              "      <td>False</td>\n",
              "      <td>True</td>\n",
              "      <td>False</td>\n",
              "      <td>False</td>\n",
              "      <td>False</td>\n",
              "      <td>True</td>\n",
              "      <td>True</td>\n",
              "      <td>True</td>\n",
              "      <td>False</td>\n",
              "      <td>False</td>\n",
              "    </tr>\n",
              "    <tr>\n",
              "      <th>4</th>\n",
              "      <td>True</td>\n",
              "      <td>False</td>\n",
              "      <td>False</td>\n",
              "      <td>False</td>\n",
              "      <td>False</td>\n",
              "      <td>False</td>\n",
              "      <td>False</td>\n",
              "      <td>True</td>\n",
              "      <td>False</td>\n",
              "      <td>False</td>\n",
              "      <td>True</td>\n",
              "    </tr>\n",
              "  </tbody>\n",
              "</table>\n",
              "</div>"
            ],
            "text/plain": [
              "   BISCUIT  BOURNVITA  BREAD   COCK  COFFEE  ...    JAM  MAGGI   MILK  SUGER    TEA\n",
              "0     True      False   True  False   False  ...  False  False   True  False  False\n",
              "1     True      False   True  False   False  ...  False  False   True  False  False\n",
              "2    False       True   True  False   False  ...  False  False  False  False   True\n",
              "3    False      False   True  False   False  ...   True   True   True  False  False\n",
              "4     True      False  False  False   False  ...  False   True  False  False   True\n",
              "\n",
              "[5 rows x 11 columns]"
            ]
          },
          "metadata": {
            "tags": []
          },
          "execution_count": 18
        }
      ]
    },
    {
      "cell_type": "code",
      "metadata": {
        "id": "WAlMhEfqSd4Q"
      },
      "source": [
        "from mlxtend.frequent_patterns import apriori"
      ],
      "execution_count": 19,
      "outputs": []
    },
    {
      "cell_type": "code",
      "metadata": {
        "colab": {
          "base_uri": "https://localhost:8080/",
          "height": 408
        },
        "id": "5eASij86Syng",
        "outputId": "b5955e74-4fff-4cdc-fb71-15a9f941b7bd"
      },
      "source": [
        "df1 = apriori(df, min_support=0.01, use_colnames=True)\n",
        "df1 = df1.sort_values(by=\"support\", ascending=False)\n",
        "df1"
      ],
      "execution_count": 20,
      "outputs": [
        {
          "output_type": "execute_result",
          "data": {
            "text/html": [
              "<div>\n",
              "<style scoped>\n",
              "    .dataframe tbody tr th:only-of-type {\n",
              "        vertical-align: middle;\n",
              "    }\n",
              "\n",
              "    .dataframe tbody tr th {\n",
              "        vertical-align: top;\n",
              "    }\n",
              "\n",
              "    .dataframe thead th {\n",
              "        text-align: right;\n",
              "    }\n",
              "</style>\n",
              "<table border=\"1\" class=\"dataframe\">\n",
              "  <thead>\n",
              "    <tr style=\"text-align: right;\">\n",
              "      <th></th>\n",
              "      <th>support</th>\n",
              "      <th>itemsets</th>\n",
              "    </tr>\n",
              "  </thead>\n",
              "  <tbody>\n",
              "    <tr>\n",
              "      <th>2</th>\n",
              "      <td>0.65</td>\n",
              "      <td>(BREAD)</td>\n",
              "    </tr>\n",
              "    <tr>\n",
              "      <th>4</th>\n",
              "      <td>0.40</td>\n",
              "      <td>(COFFEE)</td>\n",
              "    </tr>\n",
              "    <tr>\n",
              "      <th>0</th>\n",
              "      <td>0.35</td>\n",
              "      <td>(BISCUIT)</td>\n",
              "    </tr>\n",
              "    <tr>\n",
              "      <th>10</th>\n",
              "      <td>0.35</td>\n",
              "      <td>(TEA)</td>\n",
              "    </tr>\n",
              "    <tr>\n",
              "      <th>5</th>\n",
              "      <td>0.30</td>\n",
              "      <td>(CORNFLAKES)</td>\n",
              "    </tr>\n",
              "    <tr>\n",
              "      <th>...</th>\n",
              "      <td>...</td>\n",
              "      <td>...</td>\n",
              "    </tr>\n",
              "    <tr>\n",
              "      <th>55</th>\n",
              "      <td>0.05</td>\n",
              "      <td>(CORNFLAKES, BISCUIT, MILK)</td>\n",
              "    </tr>\n",
              "    <tr>\n",
              "      <th>57</th>\n",
              "      <td>0.05</td>\n",
              "      <td>(SUGER, BREAD, BOURNVITA)</td>\n",
              "    </tr>\n",
              "    <tr>\n",
              "      <th>17</th>\n",
              "      <td>0.05</td>\n",
              "      <td>(SUGER, BISCUIT)</td>\n",
              "    </tr>\n",
              "    <tr>\n",
              "      <th>37</th>\n",
              "      <td>0.05</td>\n",
              "      <td>(MAGGI, CORNFLAKES)</td>\n",
              "    </tr>\n",
              "    <tr>\n",
              "      <th>82</th>\n",
              "      <td>0.05</td>\n",
              "      <td>(TEA, CORNFLAKES, MILK, COFFEE)</td>\n",
              "    </tr>\n",
              "  </tbody>\n",
              "</table>\n",
              "<p>83 rows × 2 columns</p>\n",
              "</div>"
            ],
            "text/plain": [
              "    support                         itemsets\n",
              "2      0.65                          (BREAD)\n",
              "4      0.40                         (COFFEE)\n",
              "0      0.35                        (BISCUIT)\n",
              "10     0.35                            (TEA)\n",
              "5      0.30                     (CORNFLAKES)\n",
              "..      ...                              ...\n",
              "55     0.05      (CORNFLAKES, BISCUIT, MILK)\n",
              "57     0.05        (SUGER, BREAD, BOURNVITA)\n",
              "17     0.05                 (SUGER, BISCUIT)\n",
              "37     0.05              (MAGGI, CORNFLAKES)\n",
              "82     0.05  (TEA, CORNFLAKES, MILK, COFFEE)\n",
              "\n",
              "[83 rows x 2 columns]"
            ]
          },
          "metadata": {
            "tags": []
          },
          "execution_count": 20
        }
      ]
    },
    {
      "cell_type": "code",
      "metadata": {
        "id": "W9Hiky2mTFBc"
      },
      "source": [
        ""
      ],
      "execution_count": null,
      "outputs": []
    }
  ]
}