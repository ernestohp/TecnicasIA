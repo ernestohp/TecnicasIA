{
  "nbformat": 4,
  "nbformat_minor": 0,
  "metadata": {
    "colab": {
      "name": "TIA-Actividad1.ipynb",
      "provenance": [],
      "collapsed_sections": [],
      "authorship_tag": "ABX9TyOlmMcZRmtrB6qIgew+HXzo",
      "include_colab_link": true
    },
    "kernelspec": {
      "name": "python3",
      "display_name": "Python 3"
    },
    "language_info": {
      "name": "python"
    }
  },
  "cells": [
    {
      "cell_type": "markdown",
      "metadata": {
        "id": "view-in-github",
        "colab_type": "text"
      },
      "source": [
        "<a href=\"https://colab.research.google.com/github/ernestohp/TecnicasIA/blob/main/TIA_Actividad1.ipynb\" target=\"_parent\"><img src=\"https://colab.research.google.com/assets/colab-badge.svg\" alt=\"Open In Colab\"/></a>"
      ]
    },
    {
      "cell_type": "markdown",
      "metadata": {
        "id": "12fepzR6Hl7n"
      },
      "source": [
        "# Actividad 1\n",
        "# Descripción de dataset  y comparación de Algoritmos de Clasificación\n",
        "\n",
        "Utilizamos el dataset de carros desde esta ubicación:\n",
        "https://raw.githubusercontent.com/ernestohp/TecnicasIA/main/Laboratorio_dataset_car.csv\n",
        "\n",
        "- Analizaremos el dataset textual y gráficamente\n",
        "- Usaremos dos algoritmos de clasificación y vamos a comparar con distintos criterios"
      ]
    },
    {
      "cell_type": "code",
      "metadata": {
        "id": "6a5Q8zlHG_ZQ"
      },
      "source": [
        "# Importamos todas las librerías necesarias\n",
        "import pandas as pd\n",
        "import matplotlib.pyplot as plt\n",
        "import seaborn as sns\n",
        "from sklearn.preprocessing import LabelEncoder\n",
        "from sklearn.model_selection import train_test_split\n",
        "from sklearn.model_selection import cross_val_score\n",
        "from sklearn.model_selection import StratifiedKFold\n",
        "from sklearn.metrics import classification_report\n",
        "from sklearn.metrics import confusion_matrix\n",
        "from sklearn.metrics import accuracy_score\n",
        "from sklearn.tree import DecisionTreeClassifier\n",
        "from sklearn.ensemble import RandomForestClassifier\n"
      ],
      "execution_count": 1,
      "outputs": []
    },
    {
      "cell_type": "markdown",
      "metadata": {
        "id": "uoxQTINpdZpU"
      },
      "source": [
        "# Análisis del Dataset - numérico y grafico"
      ]
    },
    {
      "cell_type": "code",
      "metadata": {
        "id": "ZzEXmM-qImlw"
      },
      "source": [
        "#Leemos el dataset desde la ruta publica\n",
        "url = \"https://raw.githubusercontent.com/ernestohp/TecnicasIA/main/Laboratorio_dataset_car.csv\"\n",
        "dataset = pd.read_csv(url, sep=\";\")"
      ],
      "execution_count": 2,
      "outputs": []
    },
    {
      "cell_type": "code",
      "metadata": {
        "colab": {
          "base_uri": "https://localhost:8080/"
        },
        "id": "xQEOzyBUJK13",
        "outputId": "a7fbbed5-dfd4-4eff-803a-278280a3173f"
      },
      "source": [
        "#Mostramos la cantidad de filas y columnas\n",
        "print(dataset.shape)"
      ],
      "execution_count": 3,
      "outputs": [
        {
          "output_type": "stream",
          "text": [
            "(1750, 7)\n"
          ],
          "name": "stdout"
        }
      ]
    },
    {
      "cell_type": "code",
      "metadata": {
        "colab": {
          "base_uri": "https://localhost:8080/"
        },
        "id": "g0reDZFFM51R",
        "outputId": "6c7c3bdf-a3b1-4852-d532-a459aeb25bbd"
      },
      "source": [
        "#verificamos si hay datos nulos en algún atributo\n",
        "print(dataset.info())"
      ],
      "execution_count": 4,
      "outputs": [
        {
          "output_type": "stream",
          "text": [
            "<class 'pandas.core.frame.DataFrame'>\n",
            "RangeIndex: 1750 entries, 0 to 1749\n",
            "Data columns (total 7 columns):\n",
            " #   Column       Non-Null Count  Dtype \n",
            "---  ------       --------------  ----- \n",
            " 0   Buying       1750 non-null   object\n",
            " 1   Maintenance  1750 non-null   object\n",
            " 2   Doors        1750 non-null   object\n",
            " 3   Person       1750 non-null   object\n",
            " 4   lug_boot     1750 non-null   object\n",
            " 5   safety       1750 non-null   object\n",
            " 6   class        1750 non-null   object\n",
            "dtypes: object(7)\n",
            "memory usage: 95.8+ KB\n",
            "None\n"
          ],
          "name": "stdout"
        }
      ]
    },
    {
      "cell_type": "code",
      "metadata": {
        "colab": {
          "base_uri": "https://localhost:8080/"
        },
        "id": "_lToT3X4Jtp7",
        "outputId": "db70a008-60a8-444d-d18d-aed9c0f04b5d"
      },
      "source": [
        "#mostramos un resumen estadístico de los datos\n",
        "print(dataset.describe())"
      ],
      "execution_count": 5,
      "outputs": [
        {
          "output_type": "stream",
          "text": [
            "       Buying Maintenance Doors Person lug_boot safety  class\n",
            "count    1750        1750  1750   1750     1750   1750   1750\n",
            "unique      4           4     4      3        3      3      4\n",
            "top     vhigh         low     2      4      big   high  unacc\n",
            "freq      443         447   444    587      585    590   1215\n"
          ],
          "name": "stdout"
        }
      ]
    },
    {
      "cell_type": "code",
      "metadata": {
        "id": "TXEXb305KSPl",
        "colab": {
          "base_uri": "https://localhost:8080/"
        },
        "outputId": "6fa22241-e486-4d9c-8c9f-ca0f700d55dd"
      },
      "source": [
        "#distribución de los datos por clases\n",
        "print(dataset.groupby('class').size())"
      ],
      "execution_count": 6,
      "outputs": [
        {
          "output_type": "stream",
          "text": [
            "class\n",
            "acc       390\n",
            "good       75\n",
            "unacc    1215\n",
            "vgood      70\n",
            "dtype: int64\n"
          ],
          "name": "stdout"
        }
      ]
    },
    {
      "cell_type": "code",
      "metadata": {
        "colab": {
          "base_uri": "https://localhost:8080/"
        },
        "id": "LOGR_3-STNb5",
        "outputId": "89daa960-2a3b-4669-e191-2815c918fb87"
      },
      "source": [
        "#valores por cada atributo. Por ejemplo valores unicos del atributo Buying\n",
        "print(dataset.groupby('Buying').size())"
      ],
      "execution_count": 7,
      "outputs": [
        {
          "output_type": "stream",
          "text": [
            "Buying\n",
            "high     432\n",
            "low      437\n",
            "med      438\n",
            "vhigh    443\n",
            "dtype: int64\n"
          ],
          "name": "stdout"
        }
      ]
    },
    {
      "cell_type": "code",
      "metadata": {
        "colab": {
          "base_uri": "https://localhost:8080/"
        },
        "id": "WcizfL20SxqA",
        "outputId": "0d3ba14f-bb9d-4968-a381-fd03ea0d5913"
      },
      "source": [
        "#inspeccionamos el dataset\n",
        "print(dataset.head(3))"
      ],
      "execution_count": 8,
      "outputs": [
        {
          "output_type": "stream",
          "text": [
            "  Buying Maintenance Doors Person lug_boot safety  class\n",
            "0  vhigh       vhigh     2      2    small    low  unacc\n",
            "1  vhigh       vhigh     2      2    small    med  unacc\n",
            "2  vhigh       vhigh     2      2    small   high  unacc\n"
          ],
          "name": "stdout"
        }
      ]
    },
    {
      "cell_type": "code",
      "metadata": {
        "colab": {
          "base_uri": "https://localhost:8080/",
          "height": 498
        },
        "id": "-7KF_5xwLAsY",
        "outputId": "7b8c97f8-c665-46da-ec8e-fb617d039c6b"
      },
      "source": [
        "#Diagrama de barras de los atributos\n",
        "fig, ax = plt.subplots(nrows=2, ncols=3, figsize = (15, 8))\n",
        "sns.histplot(data=dataset, x=\"Buying\",      ax= ax[0, 0], shrink=.5)\n",
        "sns.histplot(data=dataset, x=\"Maintenance\", ax= ax[0, 1], shrink=.5)\n",
        "sns.histplot(data=dataset, x=\"Doors\",       ax= ax[0, 2], shrink=.5)\n",
        "sns.histplot(data=dataset, x=\"Person\",      ax= ax[1, 0], shrink=.5)\n",
        "sns.histplot(data=dataset, x=\"lug_boot\",    ax= ax[1, 1], shrink=.5)\n",
        "sns.histplot(data=dataset, x=\"safety\",      ax= ax[1, 2], shrink=.5)\n",
        "plt.show()"
      ],
      "execution_count": 11,
      "outputs": [
        {
          "output_type": "display_data",
          "data": {
            "image/png": "[encoded data removed]",
            "text/plain": [
              "<Figure size 1080x576 with 6 Axes>"
            ]
          },
          "metadata": {
            "tags": [],
            "needs_background": "light"
          }
        }
      ]
    },
    {
      "cell_type": "code",
      "metadata": {
        "colab": {
          "base_uri": "https://localhost:8080/",
          "height": 279
        },
        "id": "BmhSvinOLO7X",
        "outputId": "2d753838-143a-4bfb-953e-addd17372a55"
      },
      "source": [
        "#Diagrama de barras para las clases\n",
        "sns.histplot(data=dataset, x=\"class\", shrink=.5)\n",
        "plt.show()"
      ],
      "execution_count": 12,
      "outputs": [
        {
          "output_type": "display_data",
          "data": {
            "image/png": "[encoded data removed]",
            "text/plain": [
              "<Figure size 432x288 with 1 Axes>"
            ]
          },
          "metadata": {
            "tags": [],
            "needs_background": "light"
          }
        }
      ]
    },
    {
      "cell_type": "code",
      "metadata": {
        "id": "QmxY-4XFNNiE"
      },
      "source": [
        ""
      ],
      "execution_count": null,
      "outputs": []
    },
    {
      "cell_type": "markdown",
      "metadata": {
        "id": "g04V3kxLNIr6"
      },
      "source": [
        "\n",
        "\n",
        "# Comparación de Algoritmos de Clasificación\n",
        "\n",
        "###Codificamos los atributos en datos numéricos\n",
        "Debido a que los datos son categóricos ordinales, se deben convertir a datos numéricos para poder procesar los algoritmos"
      ]
    },
    {
      "cell_type": "code",
      "metadata": {
        "id": "JJ9OBjeCFZ7D"
      },
      "source": [
        "#-----codificación de los atributos-----\n",
        "labelencoder = LabelEncoder()\n",
        "\n",
        "#Buying (low:0, med:1, high:2, vhigh:3)\n",
        "d1 = dataset['Buying'].replace(\"low\",\"A\").replace(\"med\",\"B\").replace(\"high\", \"C\").replace(\"vhigh\", \"D\")\n",
        "dataset['Buying'] = labelencoder.fit_transform(d1)\n",
        "\n",
        "#Maintenance (low:0, med:1, high:2, vhigh:3)\n",
        "d1 = dataset['Maintenance'].replace(\"low\",\"A\").replace(\"med\",\"B\").replace(\"high\", \"C\").replace(\"vhigh\", \"D\")\n",
        "dataset['Maintenance'] = labelencoder.fit_transform(d1)\n",
        "\n",
        "#Doors (2:2, 3:3, 4:4, 5more:5)\n",
        "d1 = dataset['Doors'].replace(\"5more\",\"5\")\n",
        "dataset['Doors'] = d1\n",
        "\n",
        "#Person (2:2, 4:4, more:5)\n",
        "d1 = dataset['Person'].replace(\"more\",\"5\")\n",
        "dataset['Person'] = d1\n",
        "\n",
        "#lug_boot (small:0, med:1, big:2)\n",
        "d1 = dataset['lug_boot'].replace(\"small\",\"A\").replace(\"med\",\"B\").replace(\"big\", \"C\")\n",
        "dataset['lug_boot'] = labelencoder.fit_transform(d1)\n",
        "\n",
        "#safety (low:0, med:1, high:2)\n",
        "d1 = dataset['safety'].replace(\"low\",\"A\").replace(\"med\",\"B\").replace(\"high\", \"C\")\n",
        "dataset['safety'] = labelencoder.fit_transform(d1)\n"
      ],
      "execution_count": 111,
      "outputs": []
    },
    {
      "cell_type": "code",
      "metadata": {
        "colab": {
          "base_uri": "https://localhost:8080/",
          "height": 408
        },
        "id": "eT0yIy77jpCa",
        "outputId": "d78c0e57-48cc-4112-c369-36d28b43e0b4"
      },
      "source": [
        "#verificamos el dataset\n",
        "dataset"
      ],
      "execution_count": 112,
      "outputs": [
        {
          "output_type": "execute_result",
          "data": {
            "text/html": [
              "<div>\n",
              "<style scoped>\n",
              "    .dataframe tbody tr th:only-of-type {\n",
              "        vertical-align: middle;\n",
              "    }\n",
              "\n",
              "    .dataframe tbody tr th {\n",
              "        vertical-align: top;\n",
              "    }\n",
              "\n",
              "    .dataframe thead th {\n",
              "        text-align: right;\n",
              "    }\n",
              "</style>\n",
              "<table border=\"1\" class=\"dataframe\">\n",
              "  <thead>\n",
              "    <tr style=\"text-align: right;\">\n",
              "      <th></th>\n",
              "      <th>Buying</th>\n",
              "      <th>Maintenance</th>\n",
              "      <th>Doors</th>\n",
              "      <th>Person</th>\n",
              "      <th>lug_boot</th>\n",
              "      <th>safety</th>\n",
              "      <th>class</th>\n",
              "    </tr>\n",
              "  </thead>\n",
              "  <tbody>\n",
              "    <tr>\n",
              "      <th>0</th>\n",
              "      <td>3</td>\n",
              "      <td>3</td>\n",
              "      <td>2</td>\n",
              "      <td>2</td>\n",
              "      <td>0</td>\n",
              "      <td>0</td>\n",
              "      <td>unacc</td>\n",
              "    </tr>\n",
              "    <tr>\n",
              "      <th>1</th>\n",
              "      <td>3</td>\n",
              "      <td>3</td>\n",
              "      <td>2</td>\n",
              "      <td>2</td>\n",
              "      <td>0</td>\n",
              "      <td>1</td>\n",
              "      <td>unacc</td>\n",
              "    </tr>\n",
              "    <tr>\n",
              "      <th>2</th>\n",
              "      <td>3</td>\n",
              "      <td>3</td>\n",
              "      <td>2</td>\n",
              "      <td>2</td>\n",
              "      <td>0</td>\n",
              "      <td>2</td>\n",
              "      <td>unacc</td>\n",
              "    </tr>\n",
              "    <tr>\n",
              "      <th>3</th>\n",
              "      <td>3</td>\n",
              "      <td>3</td>\n",
              "      <td>2</td>\n",
              "      <td>2</td>\n",
              "      <td>1</td>\n",
              "      <td>0</td>\n",
              "      <td>unacc</td>\n",
              "    </tr>\n",
              "    <tr>\n",
              "      <th>4</th>\n",
              "      <td>3</td>\n",
              "      <td>3</td>\n",
              "      <td>2</td>\n",
              "      <td>2</td>\n",
              "      <td>1</td>\n",
              "      <td>1</td>\n",
              "      <td>unacc</td>\n",
              "    </tr>\n",
              "    <tr>\n",
              "      <th>...</th>\n",
              "      <td>...</td>\n",
              "      <td>...</td>\n",
              "      <td>...</td>\n",
              "      <td>...</td>\n",
              "      <td>...</td>\n",
              "      <td>...</td>\n",
              "      <td>...</td>\n",
              "    </tr>\n",
              "    <tr>\n",
              "      <th>1745</th>\n",
              "      <td>0</td>\n",
              "      <td>0</td>\n",
              "      <td>5</td>\n",
              "      <td>5</td>\n",
              "      <td>1</td>\n",
              "      <td>2</td>\n",
              "      <td>vgood</td>\n",
              "    </tr>\n",
              "    <tr>\n",
              "      <th>1746</th>\n",
              "      <td>0</td>\n",
              "      <td>0</td>\n",
              "      <td>5</td>\n",
              "      <td>5</td>\n",
              "      <td>1</td>\n",
              "      <td>2</td>\n",
              "      <td>vgood</td>\n",
              "    </tr>\n",
              "    <tr>\n",
              "      <th>1747</th>\n",
              "      <td>0</td>\n",
              "      <td>0</td>\n",
              "      <td>5</td>\n",
              "      <td>5</td>\n",
              "      <td>2</td>\n",
              "      <td>0</td>\n",
              "      <td>unacc</td>\n",
              "    </tr>\n",
              "    <tr>\n",
              "      <th>1748</th>\n",
              "      <td>0</td>\n",
              "      <td>0</td>\n",
              "      <td>5</td>\n",
              "      <td>5</td>\n",
              "      <td>2</td>\n",
              "      <td>1</td>\n",
              "      <td>good</td>\n",
              "    </tr>\n",
              "    <tr>\n",
              "      <th>1749</th>\n",
              "      <td>0</td>\n",
              "      <td>0</td>\n",
              "      <td>5</td>\n",
              "      <td>5</td>\n",
              "      <td>2</td>\n",
              "      <td>2</td>\n",
              "      <td>vgood</td>\n",
              "    </tr>\n",
              "  </tbody>\n",
              "</table>\n",
              "<p>1750 rows × 7 columns</p>\n",
              "</div>"
            ],
            "text/plain": [
              "      Buying  Maintenance Doors Person  lug_boot  safety  class\n",
              "0          3            3     2      2         0       0  unacc\n",
              "1          3            3     2      2         0       1  unacc\n",
              "2          3            3     2      2         0       2  unacc\n",
              "3          3            3     2      2         1       0  unacc\n",
              "4          3            3     2      2         1       1  unacc\n",
              "...      ...          ...   ...    ...       ...     ...    ...\n",
              "1745       0            0     5      5         1       2  vgood\n",
              "1746       0            0     5      5         1       2  vgood\n",
              "1747       0            0     5      5         2       0  unacc\n",
              "1748       0            0     5      5         2       1   good\n",
              "1749       0            0     5      5         2       2  vgood\n",
              "\n",
              "[1750 rows x 7 columns]"
            ]
          },
          "metadata": {
            "tags": []
          },
          "execution_count": 112
        }
      ]
    },
    {
      "cell_type": "markdown",
      "metadata": {
        "id": "fe4egto0vsw9"
      },
      "source": [
        "### Dividimos el dataset en datos de entrenamiento y datos de prueba"
      ]
    },
    {
      "cell_type": "code",
      "metadata": {
        "colab": {
          "base_uri": "https://localhost:8080/"
        },
        "id": "UO9lavBZjy6i",
        "outputId": "04b04c15-53b4-4bb9-aa0e-b7396b375bb2"
      },
      "source": [
        "# Dividimos el dataset en 80% de datos para entrenar y 20% para test\n",
        "array = dataset.values\n",
        "X = array[:,0:6]\n",
        "y = array[:,6]\n",
        "X_train, X_validation, Y_train, Y_validation = train_test_split(X, y, test_size=0.2, \n",
        "                                                                random_state=1, shuffle = True)\n",
        "#Verificamos los datos de entrenamiento y validación\n",
        "print(X_validation.shape, Y_validation.shape, X_train.shape, Y_train.shape)"
      ],
      "execution_count": 113,
      "outputs": [
        {
          "output_type": "stream",
          "text": [
            "(350, 6) (350,) (1400, 6) (1400,)\n"
          ],
          "name": "stdout"
        }
      ]
    },
    {
      "cell_type": "markdown",
      "metadata": {
        "id": "URZ6KoGDq949"
      },
      "source": [
        "### Análisis individual de los algoritmos\n",
        "\n",
        "*   Algoritmo DecisionTreeClassifier\n",
        "*   Algoritmo RandomForestClassifier"
      ]
    },
    {
      "cell_type": "code",
      "metadata": {
        "id": "KJBCPGglkK6w"
      },
      "source": [
        "#Algoritmo DecisionTreeClassifier\n",
        "dtc = DecisionTreeClassifier(criterion=\"gini\")\n",
        "dtc.fit(X_train, Y_train)\n",
        "predictions = dtc.predict(X_validation)"
      ],
      "execution_count": 114,
      "outputs": []
    },
    {
      "cell_type": "code",
      "metadata": {
        "colab": {
          "base_uri": "https://localhost:8080/"
        },
        "id": "kj-bANo1sGFm",
        "outputId": "e02cb2d5-4b3f-4296-b1d4-f60f2aa0ea37"
      },
      "source": [
        "print(\"Accuracy\", accuracy_score(Y_validation, predictions))\n",
        "print(\"Matriz de confusion:\\n\",confusion_matrix(Y_validation, predictions))\n",
        "print(\"Métricas:\\n\",classification_report(Y_validation, predictions,zero_division=0.0))"
      ],
      "execution_count": 115,
      "outputs": [
        {
          "output_type": "stream",
          "text": [
            "Accuracy 0.98\n",
            "Matriz de confusion:\n",
            " [[ 73   3   1   0]\n",
            " [  0  18   0   0]\n",
            " [  2   1 242   0]\n",
            " [  0   0   0  10]]\n",
            "Métricas:\n",
            "               precision    recall  f1-score   support\n",
            "\n",
            "         acc       0.97      0.95      0.96        77\n",
            "        good       0.82      1.00      0.90        18\n",
            "       unacc       1.00      0.99      0.99       245\n",
            "       vgood       1.00      1.00      1.00        10\n",
            "\n",
            "    accuracy                           0.98       350\n",
            "   macro avg       0.95      0.98      0.96       350\n",
            "weighted avg       0.98      0.98      0.98       350\n",
            "\n"
          ],
          "name": "stdout"
        }
      ]
    },
    {
      "cell_type": "code",
      "metadata": {
        "colab": {
          "base_uri": "https://localhost:8080/"
        },
        "id": "8tcqnQu1SmPo",
        "outputId": "d0dcd2db-edfd-4366-f2f6-f9d5840077bf"
      },
      "source": [
        "#predecimos para un set de datos\n",
        "#Buying=med, Maintenance=vhigh, Doors=6, Person=4, lug_boot=small, safety=high\n",
        "print(dtc.predict([[1, 3, 5, 4, 0, 2]]))"
      ],
      "execution_count": 116,
      "outputs": [
        {
          "output_type": "stream",
          "text": [
            "['acc']\n"
          ],
          "name": "stdout"
        }
      ]
    },
    {
      "cell_type": "code",
      "metadata": {
        "id": "VB8Jjhogx7k1"
      },
      "source": [
        "#Algoritmo RandomForestClassifier\n",
        "#rfc = RandomForestClassifier(criterion='gini', n_jobs=2, random_state=0, max_depth=4)\n",
        "#rfc = RandomForestClassifier(random_state=1, max_depth=6, criterion='gini', n_estimators=100)\n",
        "rfc = RandomForestClassifier(random_state=1, n_estimators=20, criterion='gini')\n",
        "#rfc = RandomForestClassifier()\n",
        "rfc.fit(X_train, Y_train)\n",
        "predictions2 = rfc.predict(X_validation)\n"
      ],
      "execution_count": 117,
      "outputs": []
    },
    {
      "cell_type": "code",
      "metadata": {
        "colab": {
          "base_uri": "https://localhost:8080/"
        },
        "id": "XGe5jaR4NWoE",
        "outputId": "b5bf9aa9-3e14-4ec5-a31c-afa746271be3"
      },
      "source": [
        "print(\"Accuracy\", accuracy_score(Y_validation, predictions2))\n",
        "print(\"Matriz de confusion:\\n\",confusion_matrix(Y_validation, predictions2))\n",
        "print(\"Métricas:\\n\",classification_report(Y_validation, predictions2, zero_division=0.0))"
      ],
      "execution_count": 118,
      "outputs": [
        {
          "output_type": "stream",
          "text": [
            "Accuracy 0.9771428571428571\n",
            "Matriz de confusion:\n",
            " [[ 74   1   0   2]\n",
            " [  0  17   0   1]\n",
            " [  3   0 242   0]\n",
            " [  1   0   0   9]]\n",
            "Métricas:\n",
            "               precision    recall  f1-score   support\n",
            "\n",
            "         acc       0.95      0.96      0.95        77\n",
            "        good       0.94      0.94      0.94        18\n",
            "       unacc       1.00      0.99      0.99       245\n",
            "       vgood       0.75      0.90      0.82        10\n",
            "\n",
            "    accuracy                           0.98       350\n",
            "   macro avg       0.91      0.95      0.93       350\n",
            "weighted avg       0.98      0.98      0.98       350\n",
            "\n"
          ],
          "name": "stdout"
        }
      ]
    },
    {
      "cell_type": "code",
      "metadata": {
        "colab": {
          "base_uri": "https://localhost:8080/"
        },
        "id": "DHZL0xWvXL1n",
        "outputId": "560cb310-dac6-4618-b4f2-ab35e202f340"
      },
      "source": [
        "#predecimos para un set de datos\n",
        "#Buying=med, Maintenance=vhigh, Doors=6, Person=4, lug_boot=small, safety=high\n",
        "print(rfc.predict([[1, 3, 5, 4, 0, 2]]))"
      ],
      "execution_count": 119,
      "outputs": [
        {
          "output_type": "stream",
          "text": [
            "['acc']\n"
          ],
          "name": "stdout"
        }
      ]
    },
    {
      "cell_type": "markdown",
      "metadata": {
        "id": "MYRa5Ka_Nn7w"
      },
      "source": [
        "###Análisis comparativo de los algoritmos"
      ]
    },
    {
      "cell_type": "code",
      "metadata": {
        "colab": {
          "base_uri": "https://localhost:8080/",
          "height": 317
        },
        "id": "zY5E0XLPsb1W",
        "outputId": "cbd9c871-0f1c-4993-b51f-a06361f391a4"
      },
      "source": [
        "# Agregamos los algoritmos\n",
        "models = []\n",
        "models.append(('RF', RandomForestClassifier(random_state=1, n_estimators=20, criterion='gini')))\n",
        "models.append(('CART', DecisionTreeClassifier()))\n",
        "\n",
        "# evaluamos cada modelo\n",
        "results = []\n",
        "names = []\n",
        "for name, model in models:\n",
        "  kfold = StratifiedKFold(n_splits=10, random_state=1, shuffle=True)\n",
        "  cv_results = cross_val_score(model, X_train, Y_train, cv=kfold, scoring='accuracy')\n",
        "  results.append(cv_results)\n",
        "  names.append(name)\n",
        "  print('%s: %f (%f)' % (name, cv_results.mean(), cv_results.std()))\n",
        "\n",
        "# Comparamos los algoritmos\n",
        "plt.boxplot(results, labels=names)\n",
        "plt.title('Comparación de algoritmos')\n",
        "plt.show()\n",
        "\n"
      ],
      "execution_count": 120,
      "outputs": [
        {
          "output_type": "stream",
          "text": [
            "RF: 0.966429 (0.013571)\n",
            "CART: 0.977143 (0.013093)\n"
          ],
          "name": "stdout"
        },
        {
          "output_type": "display_data",
          "data": {
            "image/png": "[encoded data removed]",
            "text/plain": [
              "<Figure size 432x288 with 1 Axes>"
            ]
          },
          "metadata": {
            "tags": [],
            "needs_background": "light"
          }
        }
      ]
    },
    {
      "cell_type": "code",
      "metadata": {
        "id": "sjKtsgMMtS9Q"
      },
      "source": [
        ""
      ],
      "execution_count": null,
      "outputs": []
    }
  ]
}