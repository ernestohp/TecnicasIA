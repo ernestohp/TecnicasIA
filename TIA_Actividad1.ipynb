{
  "nbformat": 4,
  "nbformat_minor": 0,
  "metadata": {
    "colab": {
      "name": "TIA-Actividad1.ipynb",
      "provenance": [],
      "collapsed_sections": [],
      "authorship_tag": "ABX9TyOc9Ed5CzzyKevuvtPHMSvM",
      "include_colab_link": true
    },
    "kernelspec": {
      "name": "python3",
      "display_name": "Python 3"
    },
    "language_info": {
      "name": "python"
    }
  },
  "cells": [
    {
      "cell_type": "markdown",
      "metadata": {
        "id": "view-in-github",
        "colab_type": "text"
      },
      "source": [
        "<a href=\"https://colab.research.google.com/github/ernestohp/TecnicasIA/blob/main/TIA_Actividad1.ipynb\" target=\"_parent\"><img src=\"https://colab.research.google.com/assets/colab-badge.svg\" alt=\"Open In Colab\"/></a>"
      ]
    },
    {
      "cell_type": "markdown",
      "metadata": {
        "id": "12fepzR6Hl7n"
      },
      "source": [
        "# Actividad 1\n",
        "# Descripción de dataset  y comparación de Algoritmos de Clasificación\n",
        "\n",
        "Utilizamos el dataset de carrosdesde esta ubicación:\n",
        "https://raw.githubusercontent.com/ernestohp/TecnicasIA/main/Laboratorio_dataset_car.csv\n",
        "\n",
        "- Analizaremos el dataset textual y gráficamente\n",
        "- Usaremos dos algoritmos de clasificación y vamos a comparar con distintos criterios"
      ]
    },
    {
      "cell_type": "code",
      "metadata": {
        "id": "6a5Q8zlHG_ZQ"
      },
      "source": [
        "# Importamos todas las librerías necesarias\n",
        "import pandas as pd\n",
        "import matplotlib.pyplot as plt\n",
        "import seaborn as sns\n",
        "from sklearn.preprocessing import LabelEncoder\n",
        "from sklearn.model_selection import train_test_split\n",
        "from sklearn.model_selection import cross_val_score\n",
        "from sklearn.model_selection import StratifiedKFold\n",
        "from sklearn.metrics import classification_report\n",
        "from sklearn.metrics import confusion_matrix\n",
        "from sklearn.metrics import accuracy_score\n",
        "from sklearn.tree import DecisionTreeClassifier\n",
        "from sklearn.ensemble import RandomForestClassifier\n"
      ],
      "execution_count": null,
      "outputs": []
    },
    {
      "cell_type": "markdown",
      "metadata": {
        "id": "uoxQTINpdZpU"
      },
      "source": [
        "# Análisis del Dataset - numérico y grafico"
      ]
    },
    {
      "cell_type": "code",
      "metadata": {
        "id": "ZzEXmM-qImlw"
      },
      "source": [
        "#Leemos el dataset desde la ruta publica\n",
        "url = \"https://raw.githubusercontent.com/ernestohp/TecnicasIA/main/Laboratorio_dataset_car.csv\"\n",
        "dataset = pd.read_csv(url, sep=\";\")"
      ],
      "execution_count": null,
      "outputs": []
    },
    {
      "cell_type": "code",
      "metadata": {
        "colab": {
          "base_uri": "https://localhost:8080/"
        },
        "id": "xQEOzyBUJK13",
        "outputId": "bda32e7d-03aa-4dab-da49-67b7c3cc59fc"
      },
      "source": [
        "#Mostramos la cantidad de filas y columnas\n",
        "print(dataset.shape)"
      ],
      "execution_count": null,
      "outputs": [
        {
          "output_type": "stream",
          "text": [
            "(1750, 7)\n"
          ],
          "name": "stdout"
        }
      ]
    },
    {
      "cell_type": "code",
      "metadata": {
        "colab": {
          "base_uri": "https://localhost:8080/"
        },
        "id": "g0reDZFFM51R",
        "outputId": "e4c12d6e-cf16-469d-cb89-ba2c81f5f914"
      },
      "source": [
        "#verificamos si hay datos nulos en algún atributo\n",
        "print(dataset.info())"
      ],
      "execution_count": null,
      "outputs": [
        {
          "output_type": "stream",
          "text": [
            "<class 'pandas.core.frame.DataFrame'>\n",
            "RangeIndex: 1750 entries, 0 to 1749\n",
            "Data columns (total 7 columns):\n",
            " #   Column       Non-Null Count  Dtype \n",
            "---  ------       --------------  ----- \n",
            " 0   Buying       1750 non-null   object\n",
            " 1   Maintenance  1750 non-null   object\n",
            " 2   Doors        1750 non-null   object\n",
            " 3   Person       1750 non-null   object\n",
            " 4   lug_boot     1750 non-null   object\n",
            " 5   safety       1750 non-null   object\n",
            " 6   class        1750 non-null   object\n",
            "dtypes: object(7)\n",
            "memory usage: 95.8+ KB\n",
            "None\n"
          ],
          "name": "stdout"
        }
      ]
    },
    {
      "cell_type": "code",
      "metadata": {
        "colab": {
          "base_uri": "https://localhost:8080/"
        },
        "id": "_lToT3X4Jtp7",
        "outputId": "51ee0aea-a34a-4bca-e49b-4a35c85e0c4f"
      },
      "source": [
        "#mostramos un resumen estadístico de los datos\n",
        "print(dataset.describe())"
      ],
      "execution_count": null,
      "outputs": [
        {
          "output_type": "stream",
          "text": [
            "       Buying Maintenance Doors Person lug_boot safety  class\n",
            "count    1750        1750  1750   1750     1750   1750   1750\n",
            "unique      4           4     4      3        3      3      4\n",
            "top     vhigh         low     2      4      big   high  unacc\n",
            "freq      443         447   444    587      585    590   1215\n"
          ],
          "name": "stdout"
        }
      ]
    },
    {
      "cell_type": "code",
      "metadata": {
        "id": "TXEXb305KSPl",
        "colab": {
          "base_uri": "https://localhost:8080/"
        },
        "outputId": "c2e1ac00-d019-48e6-9b78-1d5d021cb99c"
      },
      "source": [
        "#distribución de los datos por clases\n",
        "print(dataset.groupby('class').size())"
      ],
      "execution_count": null,
      "outputs": [
        {
          "output_type": "stream",
          "text": [
            "class\n",
            "acc       390\n",
            "good       75\n",
            "unacc    1215\n",
            "vgood      70\n",
            "dtype: int64\n"
          ],
          "name": "stdout"
        }
      ]
    },
    {
      "cell_type": "code",
      "metadata": {
        "colab": {
          "base_uri": "https://localhost:8080/"
        },
        "id": "LOGR_3-STNb5",
        "outputId": "1edd016d-6a0d-4d6b-d313-1556f6a5b723"
      },
      "source": [
        "#valores por cada atributo. Por ejemplo valores unicos del atributo Buying\n",
        "print(dataset.groupby('Buying').size())"
      ],
      "execution_count": null,
      "outputs": [
        {
          "output_type": "stream",
          "text": [
            "Buying\n",
            "high     432\n",
            "low      437\n",
            "med      438\n",
            "vhigh    443\n",
            "dtype: int64\n"
          ],
          "name": "stdout"
        }
      ]
    },
    {
      "cell_type": "code",
      "metadata": {
        "colab": {
          "base_uri": "https://localhost:8080/"
        },
        "id": "WcizfL20SxqA",
        "outputId": "583fc078-46d2-4648-ae1a-6b182ba022d7"
      },
      "source": [
        "#inspeccionamos el dataset\n",
        "print(dataset.head(3))"
      ],
      "execution_count": null,
      "outputs": [
        {
          "output_type": "stream",
          "text": [
            "  Buying Maintenance Doors Person lug_boot safety  class\n",
            "0  vhigh       vhigh     2      2    small    low  unacc\n",
            "1  vhigh       vhigh     2      2    small    med  unacc\n",
            "2  vhigh       vhigh     2      2    small   high  unacc\n"
          ],
          "name": "stdout"
        }
      ]
    },
    {
      "cell_type": "code",
      "metadata": {
        "colab": {
          "base_uri": "https://localhost:8080/",
          "height": 498
        },
        "id": "-7KF_5xwLAsY",
        "outputId": "5ef08f8c-6965-4f78-d6bd-ba3d14f92284"
      },
      "source": [
        "#Histograma de los atributos\n",
        "fig, ax = plt.subplots(nrows=2, ncols=3, figsize = (15, 8))\n",
        "sns.histplot(data=dataset, x=\"Buying\", ax= ax[0, 0], shrink=.5)\n",
        "sns.histplot(data=dataset, x=\"Maintenance\", ax= ax[0, 1], shrink=.5)\n",
        "sns.histplot(data=dataset, x=\"Doors\", ax= ax[0, 2], shrink=.5)\n",
        "sns.histplot(data=dataset, x=\"Person\", ax= ax[1, 0], shrink=.5)\n",
        "sns.histplot(data=dataset, x=\"lug_boot\", ax= ax[1, 1], shrink=.5)\n",
        "sns.histplot(data=dataset, x=\"safety\", ax= ax[1, 2], shrink=.5)\n",
        "plt.show()"
      ],
      "execution_count": null,
      "outputs": [
        {
          "output_type": "display_data",
          "data": {
            "image/png": "[encoded data removed]",
            "text/plain": [
              "<Figure size 1080x576 with 6 Axes>"
            ]
          },
          "metadata": {
            "tags": [],
            "needs_background": "light"
          }
        }
      ]
    },
    {
      "cell_type": "code",
      "metadata": {
        "colab": {
          "base_uri": "https://localhost:8080/",
          "height": 279
        },
        "id": "BmhSvinOLO7X",
        "outputId": "d2436056-5835-4fd1-cb2b-d505e3c66d04"
      },
      "source": [
        "#histograma para las clases\n",
        "sns.histplot(data=dataset, x=\"class\", shrink=.5)\n",
        "plt.show()"
      ],
      "execution_count": null,
      "outputs": [
        {
          "output_type": "display_data",
          "data": {
            "image/png": "[encoded data removed]",
            "text/plain": [
              "<Figure size 432x288 with 1 Axes>"
            ]
          },
          "metadata": {
            "tags": [],
            "needs_background": "light"
          }
        }
      ]
    },
    {
      "cell_type": "code",
      "metadata": {
        "id": "QmxY-4XFNNiE"
      },
      "source": [
        ""
      ],
      "execution_count": null,
      "outputs": []
    },
    {
      "cell_type": "markdown",
      "metadata": {
        "id": "g04V3kxLNIr6"
      },
      "source": [
        "\n",
        "\n",
        "# Comparación de Algoritmos de Clasificación\n",
        "\n",
        "###Codificamos los atributos en datos numéricos"
      ]
    },
    {
      "cell_type": "code",
      "metadata": {
        "id": "JJ9OBjeCFZ7D"
      },
      "source": [
        "#-----codificación de los atributos-----\n",
        "labelencoder = LabelEncoder()\n",
        "\n",
        "#Buying (low:0, med:1, high:2, vhigh:3)\n",
        "d1 = dataset['Buying'].replace(\"low\",\"A\").replace(\"med\",\"B\").replace(\"high\", \"C\").replace(\"vhigh\", \"D\")\n",
        "dataset['Buying'] = labelencoder.fit_transform(d1)\n",
        "\n",
        "#Maintenance (low:0, med:1, high:2, vhigh:3)\n",
        "d1 = dataset['Maintenance'].replace(\"low\",\"A\").replace(\"med\",\"B\").replace(\"high\", \"C\").replace(\"vhigh\", \"D\")\n",
        "dataset['Maintenance'] = labelencoder.fit_transform(d1)\n",
        "\n",
        "#Doors (2:2, 3:3, 4:4, 5more:5)\n",
        "d1 = dataset['Doors'].replace(\"5more\",\"5\")\n",
        "dataset['Doors'] = d1\n",
        "\n",
        "#Person (2:2, 4:4, more:5)\n",
        "d1 = dataset['Person'].replace(\"more\",\"5\")\n",
        "dataset['Person'] = d1\n",
        "\n",
        "#lug_boot (low:0, med:1, high:2)\n",
        "d1 = dataset['lug_boot'].replace(\"small\",\"A\").replace(\"med\",\"B\").replace(\"big\", \"C\")\n",
        "dataset['lug_boot'] = labelencoder.fit_transform(d1)\n",
        "\n",
        "#safety (low:0, med:1, high:2)\n",
        "d1 = dataset['safety'].replace(\"low\",\"A\").replace(\"med\",\"B\").replace(\"high\", \"C\")\n",
        "dataset['safety'] = labelencoder.fit_transform(d1)\n"
      ],
      "execution_count": null,
      "outputs": []
    },
    {
      "cell_type": "code",
      "metadata": {
        "colab": {
          "base_uri": "https://localhost:8080/",
          "height": 408
        },
        "id": "eT0yIy77jpCa",
        "outputId": "619109a6-4ed0-49a7-dba5-01a4ebe4edc5"
      },
      "source": [
        "#verificamos el dataset\n",
        "dataset"
      ],
      "execution_count": null,
      "outputs": [
        {
          "output_type": "execute_result",
          "data": {
            "text/html": [
              "<div>\n",
              "<style scoped>\n",
              "    .dataframe tbody tr th:only-of-type {\n",
              "        vertical-align: middle;\n",
              "    }\n",
              "\n",
              "    .dataframe tbody tr th {\n",
              "        vertical-align: top;\n",
              "    }\n",
              "\n",
              "    .dataframe thead th {\n",
              "        text-align: right;\n",
              "    }\n",
              "</style>\n",
              "<table border=\"1\" class=\"dataframe\">\n",
              "  <thead>\n",
              "    <tr style=\"text-align: right;\">\n",
              "      <th></th>\n",
              "      <th>Buying</th>\n",
              "      <th>Maintenance</th>\n",
              "      <th>Doors</th>\n",
              "      <th>Person</th>\n",
              "      <th>lug_boot</th>\n",
              "      <th>safety</th>\n",
              "      <th>class</th>\n",
              "    </tr>\n",
              "  </thead>\n",
              "  <tbody>\n",
              "    <tr>\n",
              "      <th>0</th>\n",
              "      <td>3</td>\n",
              "      <td>3</td>\n",
              "      <td>2</td>\n",
              "      <td>2</td>\n",
              "      <td>0</td>\n",
              "      <td>0</td>\n",
              "      <td>unacc</td>\n",
              "    </tr>\n",
              "    <tr>\n",
              "      <th>1</th>\n",
              "      <td>3</td>\n",
              "      <td>3</td>\n",
              "      <td>2</td>\n",
              "      <td>2</td>\n",
              "      <td>0</td>\n",
              "      <td>1</td>\n",
              "      <td>unacc</td>\n",
              "    </tr>\n",
              "    <tr>\n",
              "      <th>2</th>\n",
              "      <td>3</td>\n",
              "      <td>3</td>\n",
              "      <td>2</td>\n",
              "      <td>2</td>\n",
              "      <td>0</td>\n",
              "      <td>2</td>\n",
              "      <td>unacc</td>\n",
              "    </tr>\n",
              "    <tr>\n",
              "      <th>3</th>\n",
              "      <td>3</td>\n",
              "      <td>3</td>\n",
              "      <td>2</td>\n",
              "      <td>2</td>\n",
              "      <td>1</td>\n",
              "      <td>0</td>\n",
              "      <td>unacc</td>\n",
              "    </tr>\n",
              "    <tr>\n",
              "      <th>4</th>\n",
              "      <td>3</td>\n",
              "      <td>3</td>\n",
              "      <td>2</td>\n",
              "      <td>2</td>\n",
              "      <td>1</td>\n",
              "      <td>1</td>\n",
              "      <td>unacc</td>\n",
              "    </tr>\n",
              "    <tr>\n",
              "      <th>...</th>\n",
              "      <td>...</td>\n",
              "      <td>...</td>\n",
              "      <td>...</td>\n",
              "      <td>...</td>\n",
              "      <td>...</td>\n",
              "      <td>...</td>\n",
              "      <td>...</td>\n",
              "    </tr>\n",
              "    <tr>\n",
              "      <th>1745</th>\n",
              "      <td>0</td>\n",
              "      <td>0</td>\n",
              "      <td>5</td>\n",
              "      <td>5</td>\n",
              "      <td>1</td>\n",
              "      <td>2</td>\n",
              "      <td>vgood</td>\n",
              "    </tr>\n",
              "    <tr>\n",
              "      <th>1746</th>\n",
              "      <td>0</td>\n",
              "      <td>0</td>\n",
              "      <td>5</td>\n",
              "      <td>5</td>\n",
              "      <td>1</td>\n",
              "      <td>2</td>\n",
              "      <td>vgood</td>\n",
              "    </tr>\n",
              "    <tr>\n",
              "      <th>1747</th>\n",
              "      <td>0</td>\n",
              "      <td>0</td>\n",
              "      <td>5</td>\n",
              "      <td>5</td>\n",
              "      <td>2</td>\n",
              "      <td>0</td>\n",
              "      <td>unacc</td>\n",
              "    </tr>\n",
              "    <tr>\n",
              "      <th>1748</th>\n",
              "      <td>0</td>\n",
              "      <td>0</td>\n",
              "      <td>5</td>\n",
              "      <td>5</td>\n",
              "      <td>2</td>\n",
              "      <td>1</td>\n",
              "      <td>good</td>\n",
              "    </tr>\n",
              "    <tr>\n",
              "      <th>1749</th>\n",
              "      <td>0</td>\n",
              "      <td>0</td>\n",
              "      <td>5</td>\n",
              "      <td>5</td>\n",
              "      <td>2</td>\n",
              "      <td>2</td>\n",
              "      <td>vgood</td>\n",
              "    </tr>\n",
              "  </tbody>\n",
              "</table>\n",
              "<p>1750 rows × 7 columns</p>\n",
              "</div>"
            ],
            "text/plain": [
              "      Buying  Maintenance Doors Person  lug_boot  safety  class\n",
              "0          3            3     2      2         0       0  unacc\n",
              "1          3            3     2      2         0       1  unacc\n",
              "2          3            3     2      2         0       2  unacc\n",
              "3          3            3     2      2         1       0  unacc\n",
              "4          3            3     2      2         1       1  unacc\n",
              "...      ...          ...   ...    ...       ...     ...    ...\n",
              "1745       0            0     5      5         1       2  vgood\n",
              "1746       0            0     5      5         1       2  vgood\n",
              "1747       0            0     5      5         2       0  unacc\n",
              "1748       0            0     5      5         2       1   good\n",
              "1749       0            0     5      5         2       2  vgood\n",
              "\n",
              "[1750 rows x 7 columns]"
            ]
          },
          "metadata": {
            "tags": []
          },
          "execution_count": 25
        }
      ]
    },
    {
      "cell_type": "markdown",
      "metadata": {
        "id": "fe4egto0vsw9"
      },
      "source": [
        "### Dividimos el dataset en datos de entrenamiento y datos de prueba"
      ]
    },
    {
      "cell_type": "code",
      "metadata": {
        "colab": {
          "base_uri": "https://localhost:8080/"
        },
        "id": "UO9lavBZjy6i",
        "outputId": "9044e93c-2446-4628-deff-71237577948f"
      },
      "source": [
        "# Dividimos el dataset en 80% de datos para entrenar y 20% para test\n",
        "array = dataset.values\n",
        "X = array[:,0:6]\n",
        "y = array[:,6]\n",
        "X_train, X_validation, Y_train, Y_validation = train_test_split(X, y, test_size=0.2, random_state=1, shuffle = True)\n",
        "\n",
        "#Verificamos los datos de entrenamiento y validación\n",
        "print(X_validation.shape, Y_validation.shape, X_train.shape, Y_train.shape)"
      ],
      "execution_count": null,
      "outputs": [
        {
          "output_type": "stream",
          "text": [
            "(350, 6) (350,) (1400, 6) (1400,)\n"
          ],
          "name": "stdout"
        }
      ]
    },
    {
      "cell_type": "markdown",
      "metadata": {
        "id": "URZ6KoGDq949"
      },
      "source": [
        "### Análisis individual de los algoritmos\n",
        "\n",
        "*   Algoritmo DecisionTreeClassifier\n",
        "*   Algoritmo RandomForestClassifier"
      ]
    },
    {
      "cell_type": "code",
      "metadata": {
        "id": "KJBCPGglkK6w"
      },
      "source": [
        "#Algoritmo DecisionTreeClassifier\n",
        "dte = DecisionTreeClassifier()\n",
        "dte.fit(X_train, Y_train)\n",
        "predictions = dte.predict(X_validation)"
      ],
      "execution_count": 45,
      "outputs": []
    },
    {
      "cell_type": "code",
      "metadata": {
        "colab": {
          "base_uri": "https://localhost:8080/"
        },
        "id": "kj-bANo1sGFm",
        "outputId": "fe1ac346-8882-4d08-bc7f-3deaeacf460f"
      },
      "source": [
        "print(\"Accuracy\", accuracy_score(Y_validation, predictions))\n",
        "print(\"Matriz de confusion:\\n\",confusion_matrix(Y_validation, predictions))\n",
        "print(\"Métricas:\\n\",classification_report(Y_validation, predictions,zero_division=0.0))"
      ],
      "execution_count": 63,
      "outputs": [
        {
          "output_type": "stream",
          "text": [
            "Accuracy 0.8685714285714285\n",
            "Matriz de confusion:\n",
            " [[ 66   0  11   0]\n",
            " [ 18   0   0   0]\n",
            " [  7   0 238   0]\n",
            " [ 10   0   0   0]]\n",
            "Métricas:\n",
            "               precision    recall  f1-score   support\n",
            "\n",
            "         acc       0.65      0.86      0.74        77\n",
            "        good       0.00      0.00      0.00        18\n",
            "       unacc       0.96      0.97      0.96       245\n",
            "       vgood       0.00      0.00      0.00        10\n",
            "\n",
            "    accuracy                           0.87       350\n",
            "   macro avg       0.40      0.46      0.43       350\n",
            "weighted avg       0.81      0.87      0.84       350\n",
            "\n"
          ],
          "name": "stdout"
        }
      ]
    },
    {
      "cell_type": "code",
      "metadata": {
        "id": "VB8Jjhogx7k1"
      },
      "source": [
        "#Algoritmo RandomForestClassifier\n",
        "#rfc = RandomForestClassifier(criterion='gini', n_jobs=2, random_state=0, max_depth=4)\n",
        "rfc = RandomForestClassifier(random_state=0, max_depth=4)\n",
        "rfc.fit(X_train, Y_train)\n",
        "predictions2 = rfc.predict(X_validation)\n"
      ],
      "execution_count": 52,
      "outputs": []
    },
    {
      "cell_type": "code",
      "metadata": {
        "colab": {
          "base_uri": "https://localhost:8080/"
        },
        "id": "XGe5jaR4NWoE",
        "outputId": "5c520d60-db8d-4e82-ccf4-0de2297d1be0"
      },
      "source": [
        "print(\"Accuracy\", accuracy_score(Y_validation, predictions2))\n",
        "print(\"Matriz de confusion:\\n\",confusion_matrix(Y_validation, predictions2))\n",
        "print(\"Métricas:\\n\",classification_report(Y_validation, predictions2, zero_division=0.0))"
      ],
      "execution_count": 65,
      "outputs": [
        {
          "output_type": "stream",
          "text": [
            "Accuracy 0.8685714285714285\n",
            "Matriz de confusion:\n",
            " [[ 66   0  11   0]\n",
            " [ 18   0   0   0]\n",
            " [  7   0 238   0]\n",
            " [ 10   0   0   0]]\n",
            "Métricas:\n",
            "               precision    recall  f1-score   support\n",
            "\n",
            "         acc       0.65      0.86      0.74        77\n",
            "        good       0.00      0.00      0.00        18\n",
            "       unacc       0.96      0.97      0.96       245\n",
            "       vgood       0.00      0.00      0.00        10\n",
            "\n",
            "    accuracy                           0.87       350\n",
            "   macro avg       0.40      0.46      0.43       350\n",
            "weighted avg       0.81      0.87      0.84       350\n",
            "\n"
          ],
          "name": "stdout"
        }
      ]
    },
    {
      "cell_type": "markdown",
      "metadata": {
        "id": "MYRa5Ka_Nn7w"
      },
      "source": [
        "###Análisis comparativo de los algoritmos"
      ]
    },
    {
      "cell_type": "code",
      "metadata": {
        "colab": {
          "base_uri": "https://localhost:8080/",
          "height": 408
        },
        "id": "zY5E0XLPsb1W",
        "outputId": "a10a4e1e-e41e-43c4-cab8-18ebed809e13"
      },
      "source": [
        "# Agregamos los algoritmos\n",
        "models = []\n",
        "models.append(('RF', rfc))\n",
        "models.append(('CART', dte))\n",
        "\n",
        "# evaluamos cada modelo\n",
        "results = []\n",
        "names = []\n",
        "for name, model in models:\n",
        "  kfold = StratifiedKFold(n_splits=10, random_state=1)\n",
        "  cv_results = cross_val_score(model, X_train, Y_train, cv=kfold, scoring='accuracy')\n",
        "  results.append(cv_results)\n",
        "  names.append(name)\n",
        "  print('%s: %f (%f)' % (name, cv_results.mean(), cv_results.std()))\n",
        "\n",
        "# Comparamos los algoritmos\n",
        "plt.boxplot(results, labels=names)\n",
        "plt.title('Comparación de algoritmos')\n",
        "plt.show()\n",
        "\n"
      ],
      "execution_count": 55,
      "outputs": [
        {
          "output_type": "stream",
          "text": [
            "/usr/local/lib/python3.7/dist-packages/sklearn/model_selection/_split.py:296: FutureWarning: Setting a random_state has no effect since shuffle is False. This will raise an error in 0.24. You should leave random_state to its default (None), or set shuffle=True.\n",
            "  FutureWarning\n"
          ],
          "name": "stderr"
        },
        {
          "output_type": "stream",
          "text": [
            "RF: 0.862143 (0.021201)\n",
            "CART: 0.975714 (0.011157)\n"
          ],
          "name": "stdout"
        },
        {
          "output_type": "stream",
          "text": [
            "/usr/local/lib/python3.7/dist-packages/sklearn/model_selection/_split.py:296: FutureWarning: Setting a random_state has no effect since shuffle is False. This will raise an error in 0.24. You should leave random_state to its default (None), or set shuffle=True.\n",
            "  FutureWarning\n"
          ],
          "name": "stderr"
        },
        {
          "output_type": "display_data",
          "data": {
            "image/png": "[encoded data removed]",
            "text/plain": [
              "<Figure size 432x288 with 1 Axes>"
            ]
          },
          "metadata": {
            "tags": [],
            "needs_background": "light"
          }
        }
      ]
    },
    {
      "cell_type": "code",
      "metadata": {
        "id": "sjKtsgMMtS9Q"
      },
      "source": [
        ""
      ],
      "execution_count": null,
      "outputs": []
    }
  ]
}